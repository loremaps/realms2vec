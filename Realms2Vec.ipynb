{
 "cells": [
  {
   "cell_type": "markdown",
   "metadata": {},
   "source": [
    "# Realms2Vec"
   ]
  },
  {
   "cell_type": "markdown",
   "metadata": {},
   "source": [
    "© Yuriy Guts, 2016"
   ]
  },
  {
   "cell_type": "markdown",
   "metadata": {},
   "source": [
    "Using only the raw text of [several Forgotten Realms novels](https://en.wikipedia.org/wiki/List_of_Forgotten_Realms_novels), we'll derive and explore the semantic properties of their words.\n",
    "\n",
    "Credits for this code go to [Yuriy Guts](https://github.com/YuriyGuts/). I've merely run it on Forgotten Realms novels corpus."
   ]
  },
  {
   "cell_type": "markdown",
   "metadata": {},
   "source": [
    "## Imports"
   ]
  },
  {
   "cell_type": "code",
   "execution_count": 1,
   "metadata": {},
   "outputs": [],
   "source": [
    "from __future__ import absolute_import, division, print_function"
   ]
  },
  {
   "cell_type": "code",
   "execution_count": 2,
   "metadata": {},
   "outputs": [],
   "source": [
    "import codecs\n",
    "import glob\n",
    "import logging\n",
    "import multiprocessing\n",
    "import os\n",
    "import pprint\n",
    "import re"
   ]
  },
  {
   "cell_type": "code",
   "execution_count": 3,
   "metadata": {},
   "outputs": [],
   "source": [
    "import nltk\n",
    "import gensim.models.word2vec as w2v\n",
    "import sklearn.manifold\n",
    "import numpy as np\n",
    "import matplotlib.pyplot as plt\n",
    "import pandas as pd\n",
    "import seaborn as sns"
   ]
  },
  {
   "cell_type": "code",
   "execution_count": 4,
   "metadata": {},
   "outputs": [
    {
     "name": "stdout",
     "output_type": "stream",
     "text": [
      "Populating the interactive namespace from numpy and matplotlib\n"
     ]
    }
   ],
   "source": [
    "%pylab inline"
   ]
  },
  {
   "cell_type": "markdown",
   "metadata": {},
   "source": [
    "**Set up logging**"
   ]
  },
  {
   "cell_type": "code",
   "execution_count": 5,
   "metadata": {},
   "outputs": [],
   "source": [
    "logging.basicConfig(format='%(asctime)s : %(levelname)s : %(message)s', level=logging.INFO)"
   ]
  },
  {
   "cell_type": "markdown",
   "metadata": {
    "collapsed": true
   },
   "source": [
    "**Download NLTK tokenizer models (only the first time)**"
   ]
  },
  {
   "cell_type": "code",
   "execution_count": 6,
   "metadata": {},
   "outputs": [
    {
     "name": "stdout",
     "output_type": "stream",
     "text": [
      "[nltk_data] Downloading package punkt to /home/jovyan/nltk_data...\n",
      "[nltk_data]   Package punkt is already up-to-date!\n",
      "[nltk_data] Downloading package stopwords to /home/jovyan/nltk_data...\n",
      "[nltk_data]   Package stopwords is already up-to-date!\n"
     ]
    },
    {
     "data": {
      "text/plain": [
       "True"
      ]
     },
     "execution_count": 6,
     "metadata": {},
     "output_type": "execute_result"
    }
   ],
   "source": [
    "nltk.download(\"punkt\")\n",
    "nltk.download(\"stopwords\")"
   ]
  },
  {
   "cell_type": "markdown",
   "metadata": {},
   "source": [
    "## Prepare Corpus"
   ]
  },
  {
   "cell_type": "markdown",
   "metadata": {},
   "source": [
    "**Load books from files**"
   ]
  },
  {
   "cell_type": "code",
   "execution_count": 7,
   "metadata": {},
   "outputs": [],
   "source": [
    "book_filenames = sorted(glob.glob(\"data/*.txt\"))"
   ]
  },
  {
   "cell_type": "code",
   "execution_count": 8,
   "metadata": {},
   "outputs": [
    {
     "name": "stdout",
     "output_type": "stream",
     "text": [
      "Found books:\n"
     ]
    },
    {
     "data": {
      "text/plain": [
       "['data/01. Dark Elf - Homeland.txt',\n",
       " 'data/01. Parched Sea, The.txt',\n",
       " 'data/02. Dark Elf - Exile.txt',\n",
       " 'data/02. Elfshadow.txt',\n",
       " 'data/03. Dark Elf - Sojourn.txt',\n",
       " 'data/03. Red Magic.txt',\n",
       " 'data/04. Icewind Dale - The Crystal Shard.txt',\n",
       " 'data/04. Night Parade, The.txt',\n",
       " 'data/05. Icewind Dale - Streams of Silver.txt',\n",
       " 'data/05. Ring of Winter, The.epub.txt',\n",
       " 'data/06. Crypt of the Shadowking.txt',\n",
       " \"data/06. Icewind Dale - The Halfling's Gem.txt\",\n",
       " 'data/07. Legacy of the Drow - The Legacy.txt',\n",
       " 'data/07. Soldiers of Ice.txt',\n",
       " 'data/08. Elfsong.txt',\n",
       " 'data/08. Legacy of the Drow - Starless Night.txt',\n",
       " 'data/09. Crown of Fire.txt',\n",
       " 'data/09. Legacy of the Drow - Siege of Darkness.txt',\n",
       " 'data/1. A Neverwinter Novella, Part I.txt',\n",
       " 'data/1. Abduction, The.txt',\n",
       " 'data/1. Alabaster Staff, The.txt',\n",
       " 'data/1. Archmage.txt',\n",
       " 'data/1. Ascendance.txt',\n",
       " 'data/1. Azure Bonds.txt',\n",
       " \"data/1. Baldur's Gate.txt\",\n",
       " 'data/1. Blackstaff Tower.txt',\n",
       " 'data/1. Blackstaff.txt',\n",
       " 'data/1. Brimstone Angels.txt',\n",
       " 'data/1. Canticle.txt',\n",
       " 'data/1. Captive Flame, The.txt',\n",
       " 'data/1. City of Ravens, The.txt',\n",
       " 'data/1. Companions, The.txt',\n",
       " 'data/1. Cormyr.txt',\n",
       " 'data/1. Darkwalker on Moonshae.txt',\n",
       " 'data/1. Daughter of the Drow.txt',\n",
       " 'data/1. Demon Awakens, The.txt',\n",
       " 'data/1. Depths of Madness.txt',\n",
       " 'data/1. Dissolution.txt',\n",
       " 'data/1. Downshadow.txt',\n",
       " 'data/1. Elfshadow.txt',\n",
       " 'data/1. Elminster Must Die.txt',\n",
       " 'data/1. Fall of Highwatch, The.txt',\n",
       " 'data/1. Fanged Crown, The.txt',\n",
       " \"data/1. Finder's Bane.txt\",\n",
       " 'data/1. Forsaken House.txt',\n",
       " 'data/1. Gossamer Plain, The.txt',\n",
       " 'data/1. Green Rider.txt',\n",
       " 'data/1. Halls of Stormweather, The.txt',\n",
       " 'data/1. Horselords.txt',\n",
       " 'data/1. Ironhelm.txt',\n",
       " 'data/1. King Pinch.txt',\n",
       " 'data/1. Lady of Poison.txt',\n",
       " 'data/1. Lost Library of Cormanthyr, The.txt',\n",
       " 'data/1. Magehound, The.txt',\n",
       " 'data/1. Making of a Mage, The.txt',\n",
       " 'data/1. Master of Chains.txt',\n",
       " 'data/1. Murder in Cormyr.txt',\n",
       " 'data/1. Neversfall.txt',\n",
       " 'data/1. Night of the Hunter.txt',\n",
       " \"data/1. Ogre's Pact, The.txt\",\n",
       " 'data/1. Plague of Spells.txt',\n",
       " 'data/1. Pool of Radiance.txt',\n",
       " 'data/1. Prophet of Moonshae.txt',\n",
       " 'data/1. Rage, The.txt',\n",
       " 'data/1. Rising Tide.txt',\n",
       " 'data/1. Sacrifice of the Widow.txt',\n",
       " 'data/1. Sapphire Crescent, The.txt',\n",
       " 'data/1. Servant of the Shard, The.txt',\n",
       " 'data/1. Shadowbred.txt',\n",
       " 'data/1. Shadowdale.txt',\n",
       " 'data/1. Shadows of Doom.txt',\n",
       " 'data/1. Spellfire.txt',\n",
       " 'data/1. Stone of Tymora.txt',\n",
       " 'data/1. Summoning, The.txt',\n",
       " 'data/1. Sword Play.txt',\n",
       " 'data/1. Sword of the Gods.txt',\n",
       " 'data/1. Swordmage.txt',\n",
       " 'data/1. Swords of Eveningstar.txt',\n",
       " 'data/1. The Gates of Madness.txt',\n",
       " 'data/1. The Temple of Yellow Skulls.txt',\n",
       " 'data/1. Twilight Falling.txt',\n",
       " 'data/1. Unbroken Chain.txt',\n",
       " 'data/1. Unclean.txt',\n",
       " \"data/1. Venom's Taste.txt\",\n",
       " 'data/1. Whisper of Waves.txt',\n",
       " 'data/10. Legacy of the Drow - Passage to Dawn.txt',\n",
       " 'data/10. Masquerades.txt',\n",
       " 'data/11. Curse of the Shadowmage.txt',\n",
       " 'data/11. Paths of Darkness - The Silent Blade.txt',\n",
       " 'data/12. Paths of Darkness - The Spine of the World.txt',\n",
       " 'data/12. Veiled Dragon, The.txt',\n",
       " 'data/12.5. Paths of Darkness - Servant of the Shard.txt',\n",
       " 'data/13. Paths of Darkness - Sea of Sworrds.txt',\n",
       " 'data/13. Silver Shadows.txt',\n",
       " 'data/14. Paths of Darkness - Sea of Swords.txt',\n",
       " 'data/14. Stormlight.txt',\n",
       " \"data/15. Finder's Bane.txt\",\n",
       " \"data/15. Hunter's Blades - The Thousand Orcs, The.txt\",\n",
       " \"data/16. Hunter's Blades - The Lone Drow, The.txt\",\n",
       " 'data/16. Thornhold.txt',\n",
       " \"data/17. Hunter's Blades - The Two Swords, The.txt\",\n",
       " 'data/17. Rise of the Blade.txt',\n",
       " 'data/18. Transitions - The Orc King.txt',\n",
       " 'data/19. Transitions - The Pirate King.txt',\n",
       " 'data/2. A Neverwinter Novella, Part II.txt',\n",
       " \"data/2. Baldur's Gate II_ Shadows of Amn.txt\",\n",
       " 'data/2. Beyond the High Road.txt',\n",
       " 'data/2. Black Bouquet, The.txt',\n",
       " 'data/2. Black Wizards.txt',\n",
       " 'data/2. Bloodwalk.txt',\n",
       " 'data/2. Bury Elminster Deep.txt',\n",
       " 'data/2. City of Torment.txt',\n",
       " 'data/2. Cloak of Shadows.txt',\n",
       " 'data/2. Coral Kingdom, The.txt',\n",
       " 'data/2. Corsair.txt',\n",
       " 'data/2. Crown of Fire.txt',\n",
       " 'data/2. Dangerous Games.txt',\n",
       " 'data/2. Dawn of Night.txt',\n",
       " 'data/2. Demon Spirit, The.txt',\n",
       " 'data/2. Dragonwall.txt',\n",
       " 'data/2. Elfsong.txt',\n",
       " 'data/2. Elminster in Myth Drannor.txt',\n",
       " 'data/2. Faces of Deception.txt',\n",
       " 'data/2. Farthest Reach.txt',\n",
       " \"data/2. First Rider's Call.txt\",\n",
       " 'data/2. Fistandantilus Reborn.txt',\n",
       " 'data/2. Floodgate, The.txt',\n",
       " 'data/2. Fractured Sky, The.txt',\n",
       " 'data/2. Giant Among Us, The.txt',\n",
       " 'data/2. Godborn, The.txt',\n",
       " 'data/2. Hand of the Hunter.txt',\n",
       " 'data/2. Howling Delve, The.txt',\n",
       " 'data/2. In Sylvan Shadows.txt',\n",
       " 'data/2. Insurrection.txt',\n",
       " 'data/2. Lesser Evils.txt',\n",
       " 'data/2. Lies of Light.txt',\n",
       " 'data/2. Maestro.txt',\n",
       " 'data/2. Mistress of the Night.txt',\n",
       " 'data/2. Mistshore.txt',\n",
       " 'data/2. Murder in Tarsis.txt',\n",
       " 'data/2. Oath of Vigilance.txt',\n",
       " 'data/2. Obsidian Ridge.txt',\n",
       " 'data/2. Paladins, The.txt',\n",
       " 'data/2. Pools of Darkness.txt',\n",
       " 'data/2. Promise of the Witch-King.txt',\n",
       " 'data/2. Restless Shore, The.txt',\n",
       " 'data/2. Rise of the King.txt',\n",
       " 'data/2. Rite, The.txt',\n",
       " 'data/2. Ruby Guardian, The.txt',\n",
       " \"data/2. Shadow's Witness.txt\",\n",
       " 'data/2. Shadowbane.txt',\n",
       " 'data/2. Shadowstorm.txt',\n",
       " 'data/2. Siege, The.txt',\n",
       " 'data/2. Spinner of Lies.txt',\n",
       " 'data/2. Storm of the Dead.txt',\n",
       " 'data/2. Swords of Dragonfire.txt',\n",
       " 'data/2. Tangled Webs.txt',\n",
       " 'data/2. Tantras.txt',\n",
       " 'data/2. Temple Hill.txt',\n",
       " 'data/2. The Mark of Nerath.txt',\n",
       " 'data/2. The Sentinels.txt',\n",
       " 'data/2. Transcendance.txt',\n",
       " 'data/2. Unbroken Chain_ The Darker Road.txt',\n",
       " 'data/2. Undead.txt',\n",
       " 'data/2. Under Fallen Stars.txt',\n",
       " \"data/2. Viper's Kiss.txt\",\n",
       " 'data/2. Viperhand.epub.txt',\n",
       " 'data/2. War in Tethyr.txt',\n",
       " 'data/2. Whisper of Venom.txt',\n",
       " \"data/2. Wyvern's Spur, The.txt\",\n",
       " 'data/20. Transitions - The Ghost King.txt',\n",
       " 'data/21. Neverwinter - Gauntlegrym.txt',\n",
       " 'data/22. Neverwinter - Neverwinter.epub.txt',\n",
       " \"data/23. Neverwinter - Charon's Claw.txt\",\n",
       " 'data/24. Neverwinter - The Last Threshold.txt',\n",
       " 'data/3. A Neverwinter Novella, Part III.txt',\n",
       " 'data/3. Adversary, The.txt',\n",
       " 'data/3. All Shadows Fled.txt',\n",
       " 'data/3. Ascendancy of the Last.txt',\n",
       " 'data/3. Avenger.txt',\n",
       " \"data/3. Baldur's Gate II_ Throne of Bhaal.txt\",\n",
       " 'data/3. Condemnation.txt',\n",
       " 'data/3. Crimson Gold, The.txt',\n",
       " 'data/3. Crusade.txt',\n",
       " 'data/3. Cry of the Ghost Wolf.txt',\n",
       " 'data/3. Crystal Mountain, The.txt',\n",
       " 'data/3. Darkvision.txt',\n",
       " 'data/3. Darkwell.txt',\n",
       " 'data/3. Death of the Dragon.txt',\n",
       " 'data/3. Demon Apostle, The.txt',\n",
       " 'data/3. Downshadow.txt',\n",
       " 'data/3. Druid Queen, The.txt',\n",
       " 'data/3. Edge of Chaos, The.txt',\n",
       " 'data/3. Elminster Enraged.txt',\n",
       " 'data/3. Emerald Scepter, The.txt',\n",
       " 'data/3. Escape from Undermountain.txt',\n",
       " 'data/3. Feathered Dragon.txt',\n",
       " 'data/3. Final Gate.txt',\n",
       " 'data/3. Hand of Fire.txt',\n",
       " 'data/3. Hero.txt',\n",
       " 'data/3. Immortalis.txt',\n",
       " 'data/3. Jewel of Turmish, The.txt',\n",
       " 'data/3. Key of Stars.txt',\n",
       " 'data/3. Maiden of Pain.txt',\n",
       " 'data/3. Mercenaries, The.txt',\n",
       " \"data/3. Midnight's Mask.txt\",\n",
       " 'data/3. Mortal Consequences.txt',\n",
       " 'data/3. Murder in Halruaa.txt',\n",
       " 'data/3. Night Masks.txt',\n",
       " 'data/3. Pool of Twilight.txt',\n",
       " 'data/3. Road of the Patriarch.txt',\n",
       " 'data/3. Ruin, The.txt',\n",
       " 'data/3. Scream of Stone.txt',\n",
       " \"data/3. Sea Devil's Eye.txt\",\n",
       " 'data/3. Shadowbane.txt',\n",
       " 'data/3. Shadowbane_ Eye of Justice.txt',\n",
       " 'data/3. Shadowrealm.txt',\n",
       " 'data/3. Shattered Mask, The.txt',\n",
       " 'data/3. Shield of Weeping Ghosts, The.txt',\n",
       " 'data/3. Silver Shadows.txt',\n",
       " 'data/3. Son of Thunder.txt',\n",
       " 'data/3. Song of the Saurials.txt',\n",
       " 'data/3. Sorcerer, The.txt',\n",
       " 'data/3. Spectral Blaze, The.txt',\n",
       " 'data/3. Star of Cursrah.txt',\n",
       " 'data/3. Stardeep.txt',\n",
       " 'data/3. Sword Never Sleeps, The.txt',\n",
       " 'data/3. Temptation of Elminster, The.txt',\n",
       " 'data/3. The Eye of the Chained God.txt',\n",
       " \"data/3. The High King's Tomb.txt\",\n",
       " 'data/3. The Shadowmask.txt',\n",
       " 'data/3. Titan of Twilight, The.txt',\n",
       " \"data/3. Tymora's Luck.txt\",\n",
       " 'data/3. Unholy.txt',\n",
       " \"data/3. Vanity's Brood.txt\",\n",
       " 'data/3. Vengeance of the Iron Dwarf.txt',\n",
       " 'data/3. Waterdeep.txt',\n",
       " 'data/3. Windwalker.txt',\n",
       " 'data/3. Wizardwar, The.txt',\n",
       " 'data/4. A Neverwinter Novella, Part IV.txt',\n",
       " 'data/4. Black Wolf.txt',\n",
       " 'data/4. Blackveil.txt',\n",
       " 'data/4. Bladesinger.txt',\n",
       " 'data/4. City of Splendors, The.txt',\n",
       " 'data/4. City of the Dead.txt',\n",
       " 'data/4. Crypt of the Moaning Diamond.txt',\n",
       " 'data/4. Elminster in Hell.txt',\n",
       " 'data/4. Errand of Mercy.txt',\n",
       " 'data/4. Extinction.txt',\n",
       " 'data/4. Fallen Fortress, The.txt',\n",
       " 'data/4. Fire in the Blood.txt',\n",
       " 'data/4. Frostfell.txt',\n",
       " 'data/4. Mage in the Iron Mask, The.txt',\n",
       " 'data/4. Masked Witches, The.txt',\n",
       " 'data/4. Nether Scroll, The.txt',\n",
       " 'data/4. Prince of Lies.txt',\n",
       " 'data/4. Queen of the Depths.txt',\n",
       " 'data/4. Reaver, The.txt',\n",
       " 'data/4. Ruins of Myth Drannor.txt',\n",
       " 'data/4. Sentinelspire.txt',\n",
       " 'data/4. Spellstorm.txt',\n",
       " 'data/4. Thornhold.txt',\n",
       " 'data/4. Under the Crimson Sun.txt',\n",
       " 'data/4. Wrath of the Blue Lady.txt',\n",
       " 'data/4. Yellow Silk, The.txt',\n",
       " 'data/5. Annihilation.txt',\n",
       " 'data/5. Ashes of the Tyrant.txt',\n",
       " 'data/5. Chaos Curse, The.txt',\n",
       " 'data/5. Council of Blades, The.txt',\n",
       " 'data/5. Crucible - Trial of Cyric the Mad.txt',\n",
       " 'data/5. Dream Spheres, The.txt',\n",
       " \"data/5. Elminster's Daughter.txt\",\n",
       " 'data/5. God Catcher.txt',\n",
       " 'data/5. Heirs of Prophecy.txt',\n",
       " 'data/5. Mirror Site.txt',\n",
       " 'data/5. Opportunity for Profit, An.txt',\n",
       " 'data/5. Prophet of the Dead.txt',\n",
       " 'data/5. Sentinel, The.txt',\n",
       " 'data/6. Circle of Skulls.txt',\n",
       " 'data/6. Conspiracy.txt',\n",
       " 'data/6. Devil You Know, The.txt',\n",
       " 'data/6. Herald, The.txt',\n",
       " 'data/6. Resurrection.txt',\n",
       " 'data/6. Sands of the Soul.txt',\n",
       " \"data/6. Simbul's Gift, The.txt\",\n",
       " 'data/7. Lord of Stormweather.txt',\n",
       " 'data/7. Uneasy Alliances.txt',\n",
       " 'data/8. Easy Betrayals.txt',\n",
       " 'data/9. Diamond, The.txt',\n",
       " 'data/Book 01 - Realms of Valor.txt',\n",
       " 'data/Book 02 - Realms of Infamy.txt',\n",
       " 'data/Book 03 - Realms of Magic.txt',\n",
       " 'data/Book 04 - Realms of the Underdark.txt',\n",
       " 'data/Book 05 - Realms of the Arcane.txt',\n",
       " 'data/Book 06 - Realms of Mystery.txt',\n",
       " 'data/Book 07 - Realms of the Deep.txt',\n",
       " 'data/Book 08 - Halls of Stormweather.txt',\n",
       " 'data/Book 09 - Realms of Shadow.txt',\n",
       " 'data/Book 10 - The Best of the Realms I.txt',\n",
       " 'data/Book 11 - Realms of the Dragons I.txt',\n",
       " 'data/Book 12 - Realms of the Dragons II.txt',\n",
       " 'data/Book 13 - The Best of the Realms II.txt',\n",
       " 'data/Book 14 - Realms of the Elves.txt',\n",
       " 'data/Book 15 - The Best of the Realms III.txt',\n",
       " 'data/Book 16 - Realms of War.txt',\n",
       " 'data/Book 17 - Realms of the Dead.txt',\n",
       " 'data/Book 18 - The Legend of Dritzz.txt',\n",
       " 'data/Crimson Shadow, The.txt',\n",
       " 'data/Dawnbringer.txt',\n",
       " 'data/Death Masks.txt',\n",
       " 'data/Evermeet - Island of Elves.txt',\n",
       " 'data/Gilded Rune, The.txt',\n",
       " 'data/Glass Prison, The.txt',\n",
       " 'data/If Ever They Happened Upon My Lair.txt',\n",
       " 'data/Once Around the Realms.txt',\n",
       " 'data/Prince of Ravens.txt',\n",
       " 'data/Rose of Sarifal, The - Paulina Claiborne.txt',\n",
       " 'data/Sandstorm.txt',\n",
       " 'data/Shadow Stone, The.txt',\n",
       " 'data/Silverfall_ Stories of the Seven Sisters.txt',\n",
       " 'data/Spider and Stone.txt',\n",
       " 'data/The Glass Prison.txt',\n",
       " 'data/The Rose of Sarifal.txt',\n",
       " 'data/Venom in Her Veins.txt']"
      ]
     },
     "execution_count": 8,
     "metadata": {},
     "output_type": "execute_result"
    }
   ],
   "source": [
    "print(\"Found books:\")\n",
    "book_filenames"
   ]
  },
  {
   "cell_type": "markdown",
   "metadata": {},
   "source": [
    "**Combine the books into one string**"
   ]
  },
  {
   "cell_type": "code",
   "execution_count": null,
   "metadata": {},
   "outputs": [],
   "source": [
    "corpus_raw = u\"\"\n",
    "for book_filename in book_filenames:\n",
    "    print(\"Reading '{0}'...\".format(book_filename))\n",
    "    with codecs.open(book_filename, \"r\", \"utf-8\") as book_file:\n",
    "        corpus_raw += book_file.read()\n",
    "    print(\"Corpus is now {0} characters long\".format(len(corpus_raw)))\n",
    "    print()"
   ]
  },
  {
   "cell_type": "markdown",
   "metadata": {},
   "source": [
    "**Split the corpus into sentences**"
   ]
  },
  {
   "cell_type": "code",
   "execution_count": 10,
   "metadata": {},
   "outputs": [],
   "source": [
    "tokenizer = nltk.data.load('tokenizers/punkt/english.pickle')"
   ]
  },
  {
   "cell_type": "code",
   "execution_count": 11,
   "metadata": {},
   "outputs": [],
   "source": [
    "raw_sentences = tokenizer.tokenize(corpus_raw)"
   ]
  },
  {
   "cell_type": "code",
   "execution_count": 12,
   "metadata": {},
   "outputs": [],
   "source": [
    "#convert into a list of words\n",
    "#rtemove unnnecessary,, split into words, no hyphens\n",
    "#list of words\n",
    "def sentence_to_wordlist(raw):\n",
    "    clean = re.sub(\"[^a-zA-Z]\",\" \", raw)\n",
    "    words = clean.split()\n",
    "    return words"
   ]
  },
  {
   "cell_type": "code",
   "execution_count": 13,
   "metadata": {},
   "outputs": [],
   "source": [
    "#sentence where each word is tokenized\n",
    "sentences = []\n",
    "for raw_sentence in raw_sentences:\n",
    "    if len(raw_sentence) > 0:\n",
    "        sentences.append(sentence_to_wordlist(raw_sentence))"
   ]
  },
  {
   "cell_type": "code",
   "execution_count": 14,
   "metadata": {},
   "outputs": [
    {
     "name": "stdout",
     "output_type": "stream",
     "text": [
      "“The Spider Queen will not accept the sacrifice until the child is named!”\n",
      "“Drizzt,” breathed Matron Malice.\n",
      "['The', 'Spider', 'Queen', 'will', 'not', 'accept', 'the', 'sacrifice', 'until', 'the', 'child', 'is', 'named', 'Drizzt', 'breathed', 'Matron', 'Malice']\n"
     ]
    }
   ],
   "source": [
    "print(raw_sentences[5])\n",
    "print(sentence_to_wordlist(raw_sentences[5]))"
   ]
  },
  {
   "cell_type": "code",
   "execution_count": 15,
   "metadata": {},
   "outputs": [
    {
     "name": "stdout",
     "output_type": "stream",
     "text": [
      "The book corpus contains 34,603,549 tokens\n"
     ]
    }
   ],
   "source": [
    "token_count = sum([len(sentence) for sentence in sentences])\n",
    "print(\"The book corpus contains {0:,} tokens\".format(token_count))"
   ]
  },
  {
   "cell_type": "markdown",
   "metadata": {},
   "source": [
    "## Train Word2Vec"
   ]
  },
  {
   "cell_type": "code",
   "execution_count": 16,
   "metadata": {},
   "outputs": [],
   "source": [
    "# Dimensionality of the resulting word vectors.\n",
    "num_features = 300\n",
    "\n",
    "# Minimum word count threshold.\n",
    "min_word_count = 3\n",
    "\n",
    "# Number of threads to run in parallel.\n",
    "num_workers = multiprocessing.cpu_count()\n",
    "\n",
    "# Context window length.\n",
    "context_size = 7\n",
    "\n",
    "# Downsample setting for frequent words.\n",
    "downsampling = 1e-3\n",
    "\n",
    "# Seed for the RNG, to make the results reproducible.\n",
    "seed = 1"
   ]
  },
  {
   "cell_type": "code",
   "execution_count": 17,
   "metadata": {},
   "outputs": [],
   "source": [
    "realms2vec = w2v.Word2Vec(\n",
    "    sg=1,\n",
    "    seed=seed,\n",
    "    workers=num_workers,\n",
    "    size=num_features,\n",
    "    min_count=min_word_count,\n",
    "    window=context_size,\n",
    "    sample=downsampling\n",
    ")"
   ]
  },
  {
   "cell_type": "code",
   "execution_count": null,
   "metadata": {},
   "outputs": [],
   "source": [
    "realms2vec.build_vocab(sentences)"
   ]
  },
  {
   "cell_type": "code",
   "execution_count": 19,
   "metadata": {
    "scrolled": true
   },
   "outputs": [
    {
     "name": "stdout",
     "output_type": "stream",
     "text": [
      "Word2Vec vocabulary length: 71128\n"
     ]
    }
   ],
   "source": [
    "print(\"Word2Vec vocabulary length:\", len(realms2vec.wv.vocab))"
   ]
  },
  {
   "cell_type": "markdown",
   "metadata": {},
   "source": [
    "**Start training, this might take a minute or two...**"
   ]
  },
  {
   "cell_type": "code",
   "execution_count": null,
   "metadata": {
    "scrolled": true
   },
   "outputs": [],
   "source": [
    "realms2vec.train(sentences, total_words=token_count, epochs=100)"
   ]
  },
  {
   "cell_type": "markdown",
   "metadata": {},
   "source": [
    "**Save to file, can be useful later**"
   ]
  },
  {
   "cell_type": "code",
   "execution_count": 21,
   "metadata": {},
   "outputs": [],
   "source": [
    "if not os.path.exists(\"trained\"):\n",
    "    os.makedirs(\"trained\")"
   ]
  },
  {
   "cell_type": "code",
   "execution_count": 23,
   "metadata": {},
   "outputs": [
    {
     "name": "stderr",
     "output_type": "stream",
     "text": [
      "2018-02-10 13:12:25,028 : INFO : saving Word2Vec object under trained/realms2vec.w2v, separately None\n",
      "2018-02-10 13:12:25,028 : INFO : storing np array 'syn0' to trained/realms2vec.w2v.wv.syn0.npy\n",
      "2018-02-10 13:12:25,089 : INFO : not storing attribute syn0norm\n",
      "2018-02-10 13:12:25,090 : INFO : storing np array 'syn1neg' to trained/realms2vec.w2v.syn1neg.npy\n",
      "2018-02-10 13:12:25,126 : INFO : not storing attribute cum_table\n",
      "2018-02-10 13:12:25,247 : INFO : saved trained/realms2vec.w2v\n"
     ]
    }
   ],
   "source": [
    "realms2vec.save(os.path.join(\"trained\", \"realms2vec.w2v\"))"
   ]
  },
  {
   "cell_type": "markdown",
   "metadata": {},
   "source": [
    "## Explore the trained model."
   ]
  },
  {
   "cell_type": "code",
   "execution_count": 7,
   "metadata": {},
   "outputs": [
    {
     "name": "stderr",
     "output_type": "stream",
     "text": [
      "2018-02-10 13:31:16,234 : INFO : loading Word2Vec object from trained/realms2vec.w2v\n",
      "2018-02-10 13:31:16,374 : INFO : loading wv recursively from trained/realms2vec.w2v.wv.* with mmap=None\n",
      "2018-02-10 13:31:16,375 : INFO : loading syn0 from trained/realms2vec.w2v.wv.syn0.npy with mmap=None\n",
      "2018-02-10 13:31:16,529 : INFO : setting ignored attribute syn0norm to None\n",
      "2018-02-10 13:31:16,532 : INFO : loading syn1neg from trained/realms2vec.w2v.syn1neg.npy with mmap=None\n",
      "2018-02-10 13:31:16,679 : INFO : setting ignored attribute cum_table to None\n",
      "2018-02-10 13:31:16,681 : INFO : loaded trained/realms2vec.w2v\n"
     ]
    }
   ],
   "source": [
    "realms2vec = w2v.Word2Vec.load(os.path.join(\"trained\", \"realms2vec.w2v\"))"
   ]
  },
  {
   "cell_type": "markdown",
   "metadata": {},
   "source": [
    "### Compress the word vectors into 2D space and plot them"
   ]
  },
  {
   "cell_type": "code",
   "execution_count": 52,
   "metadata": {},
   "outputs": [],
   "source": [
    "tsne = sklearn.manifold.TSNE(n_components=2, random_state=0)"
   ]
  },
  {
   "cell_type": "code",
   "execution_count": 10,
   "metadata": {},
   "outputs": [],
   "source": [
    "all_word_vectors_matrix = realms2vec.wv.syn0"
   ]
  },
  {
   "cell_type": "markdown",
   "metadata": {},
   "source": [
    "**Train t-SNE, this could take a minute or two...**\n",
    "\n",
    "NOTE: in my environment this never completes (propably too large). If so, you can skip to \"Explore semantic similarities between book characters\" section"
   ]
  },
  {
   "cell_type": "code",
   "execution_count": null,
   "metadata": {},
   "outputs": [],
   "source": [
    "all_word_vectors_matrix_2d = tsne.fit_transform(all_word_vectors_matrix)"
   ]
  },
  {
   "cell_type": "markdown",
   "metadata": {},
   "source": [
    "**Plot the big picture**"
   ]
  },
  {
   "cell_type": "code",
   "execution_count": null,
   "metadata": {},
   "outputs": [],
   "source": [
    "points = pd.DataFrame(\n",
    "    [\n",
    "        (word, coords[0], coords[1])\n",
    "        for word, coords in [\n",
    "            (word, all_word_vectors_matrix_2d[realms2vec.vocab[word].index])\n",
    "            for word in realms2vec.vocab\n",
    "        ]\n",
    "    ],\n",
    "    columns=[\"word\", \"x\", \"y\"]\n",
    ")"
   ]
  },
  {
   "cell_type": "code",
   "execution_count": null,
   "metadata": {},
   "outputs": [],
   "source": [
    "points.head(10)"
   ]
  },
  {
   "cell_type": "code",
   "execution_count": null,
   "metadata": {},
   "outputs": [],
   "source": [
    "sns.set_context(\"poster\")"
   ]
  },
  {
   "cell_type": "code",
   "execution_count": null,
   "metadata": {},
   "outputs": [],
   "source": [
    "points.plot.scatter(\"x\", \"y\", s=10, figsize=(20, 12))"
   ]
  },
  {
   "cell_type": "markdown",
   "metadata": {
    "collapsed": true
   },
   "source": [
    "**Zoom in to some interesting places**"
   ]
  },
  {
   "cell_type": "code",
   "execution_count": null,
   "metadata": {},
   "outputs": [],
   "source": [
    "def plot_region(x_bounds, y_bounds):\n",
    "    slice = points[\n",
    "        (x_bounds[0] <= points.x) &\n",
    "        (points.x <= x_bounds[1]) & \n",
    "        (y_bounds[0] <= points.y) &\n",
    "        (points.y <= y_bounds[1])\n",
    "    ]\n",
    "    \n",
    "    ax = slice.plot.scatter(\"x\", \"y\", s=35, figsize=(10, 8))\n",
    "    for i, point in slice.iterrows():\n",
    "        ax.text(point.x + 0.005, point.y + 0.005, point.word, fontsize=11)"
   ]
  },
  {
   "cell_type": "markdown",
   "metadata": {},
   "source": [
    "**People related to Kingsguard ended up together**"
   ]
  },
  {
   "cell_type": "code",
   "execution_count": null,
   "metadata": {},
   "outputs": [],
   "source": [
    "plot_region(x_bounds=(4.0, 4.2), y_bounds=(-0.5, -0.1))"
   ]
  },
  {
   "cell_type": "markdown",
   "metadata": {},
   "source": [
    "**Food products are grouped nicely as well. Aerys (The Mad King) being close to \"roasted\" also looks sadly correct**"
   ]
  },
  {
   "cell_type": "code",
   "execution_count": null,
   "metadata": {},
   "outputs": [],
   "source": [
    "plot_region(x_bounds=(0, 1), y_bounds=(4, 4.5))"
   ]
  },
  {
   "cell_type": "markdown",
   "metadata": {},
   "source": [
    "### Explore semantic similarities between book characters"
   ]
  },
  {
   "cell_type": "markdown",
   "metadata": {},
   "source": [
    "**Words closest to the given word**"
   ]
  },
  {
   "cell_type": "code",
   "execution_count": 45,
   "metadata": {},
   "outputs": [
    {
     "data": {
      "text/plain": [
       "[('El', 0.7434680461883545),\n",
       " ('Shadowdale', 0.6829797029495239),\n",
       " ('Shandril', 0.6622568368911743),\n",
       " ('Mirt', 0.6510697603225708),\n",
       " ('Storm', 0.6506309509277344),\n",
       " ('Manshoon', 0.6389539837837219),\n",
       " ('Mage', 0.6381931304931641),\n",
       " ('Sharantyr', 0.6207765340805054),\n",
       " ('Narm', 0.6157053709030151),\n",
       " ('Srinshee', 0.6120926141738892)]"
      ]
     },
     "execution_count": 45,
     "metadata": {},
     "output_type": "execute_result"
    }
   ],
   "source": [
    "realms2vec.wv.most_similar(\"Elminster\")"
   ]
  },
  {
   "cell_type": "code",
   "execution_count": 46,
   "metadata": {},
   "outputs": [
    {
     "data": {
      "text/plain": [
       "[('spells', 0.7400574684143066),\n",
       " ('enchantment', 0.6742175817489624),\n",
       " ('incantation', 0.6424131989479065),\n",
       " ('magic', 0.6384660601615906),\n",
       " ('casting', 0.5918986797332764),\n",
       " ('cast', 0.5778337717056274),\n",
       " ('counterspell', 0.5731417536735535),\n",
       " ('magics', 0.5412431359291077),\n",
       " ('divination', 0.5345152616500854),\n",
       " ('charm', 0.5302313566207886)]"
      ]
     },
     "execution_count": 46,
     "metadata": {},
     "output_type": "execute_result"
    }
   ],
   "source": [
    "realms2vec.wv.most_similar(\"spell\")"
   ]
  },
  {
   "cell_type": "code",
   "execution_count": 47,
   "metadata": {},
   "outputs": [
    {
     "data": {
      "text/plain": [
       "[('Sembia', 0.47273480892181396),\n",
       " ('Baldur', 0.462149053812027),\n",
       " ('Waterdeep', 0.4475569725036621),\n",
       " ('Cormyr', 0.4439469277858734),\n",
       " ('Esmeltaran', 0.4284575879573822),\n",
       " ('Suzail', 0.4167151153087616),\n",
       " ('Tethyr', 0.41307923197746277),\n",
       " ('Keczulla', 0.4013843834400177),\n",
       " ('Calimshan', 0.396533340215683),\n",
       " ('Gate', 0.38300296664237976)]"
      ]
     },
     "execution_count": 47,
     "metadata": {},
     "output_type": "execute_result"
    }
   ],
   "source": [
    "realms2vec.wv.most_similar(\"Amn\")"
   ]
  },
  {
   "cell_type": "markdown",
   "metadata": {},
   "source": [
    "**Linear relationships between word pairs**"
   ]
  },
  {
   "cell_type": "code",
   "execution_count": 48,
   "metadata": {},
   "outputs": [],
   "source": [
    "def nearest_similarity_cosmul(start1, end1, end2):\n",
    "    similarities = realms2vec.wv.most_similar_cosmul(\n",
    "        positive=[end2, start1],\n",
    "        negative=[end1]\n",
    "    )\n",
    "    start2 = similarities[0][0]\n",
    "    print(\"{start1} is related to {end1}, as {start2} is related to {end2}\".format(**locals()))\n",
    "    return start2"
   ]
  },
  {
   "cell_type": "code",
   "execution_count": 49,
   "metadata": {},
   "outputs": [
    {
     "name": "stdout",
     "output_type": "stream",
     "text": [
      "human is related to Elminster, as drow is related to Drizzt\n",
      "Menzoberranzan is related to Drizzt, as Mithral is related to Bruenor\n",
      "wizard is related to human, as shaman is related to orc\n"
     ]
    },
    {
     "data": {
      "text/plain": [
       "'shaman'"
      ]
     },
     "execution_count": 49,
     "metadata": {},
     "output_type": "execute_result"
    }
   ],
   "source": [
    "nearest_similarity_cosmul(\"human\", \"Elminster\", \"Drizzt\")\n",
    "nearest_similarity_cosmul(\"Menzoberranzan\", \"Drizzt\", \"Bruenor\")\n",
    "nearest_similarity_cosmul(\"wizard\", \"human\", \"orc\")"
   ]
  },
  {
   "cell_type": "code",
   "execution_count": 50,
   "metadata": {},
   "outputs": [
    {
     "data": {
      "text/plain": [
       "'Lolth'"
      ]
     },
     "execution_count": 50,
     "metadata": {},
     "output_type": "execute_result"
    }
   ],
   "source": [
    "realms2vec.wv.doesnt_match(\"Alustriel Dove Storm Lolth\".split()) # Who is not a Silverhand (Seven sister)"
   ]
  },
  {
   "cell_type": "code",
   "execution_count": 51,
   "metadata": {},
   "outputs": [
    {
     "data": {
      "text/plain": [
       "'Bruenor'"
      ]
     },
     "execution_count": 51,
     "metadata": {},
     "output_type": "execute_result"
    }
   ],
   "source": [
    "realms2vec.wv.doesnt_match(\"Lolth Lathander Bahamut Helm Bruenor\".split()) # Who is not a god"
   ]
  }
 ],
 "metadata": {
  "kernelspec": {
   "display_name": "Python 3",
   "language": "python",
   "name": "python3"
  },
  "language_info": {
   "codemirror_mode": {
    "name": "ipython",
    "version": 3
   },
   "file_extension": ".py",
   "mimetype": "text/x-python",
   "name": "python",
   "nbconvert_exporter": "python",
   "pygments_lexer": "ipython3",
   "version": "3.6.3"
  }
 },
 "nbformat": 4,
 "nbformat_minor": 1
}
